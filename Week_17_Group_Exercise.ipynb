{
 "cells": [
  {
   "cell_type": "markdown",
   "id": "287a6fcf",
   "metadata": {},
   "source": [
    "### 1. Write simple (straightforward) definitions for the following parameters for RandomForestClassifier (https://scikit-learn.org/stable/modules/generated/sklearn.ensemble.RandomForestClassifier.html) and indicate how they correlate with the precision and recall for the basic diabetes model we built in class. You will need to rerun the model multiple times to do so."
   ]
  },
  {
   "cell_type": "markdown",
   "id": "65ceb5eb",
   "metadata": {},
   "source": [
    "| Parameter | Definition | Correlation with Precision | Correlation with Recall |\n",
    "| --- | --- | --- | --- |\n",
    "| estimators | No. of decision trees to be modeled |Precision increases till optimum number (200 in this case) and decreases post that| Same with Recall but is not strongly correlated |\n",
    "| max_depth | Depth (levels) of each tree in forest | Positively correlated till an optimum number decreases thereafter | Positively correlated till an optimum number decreases thereafter |\n",
    "| min_samples_split | Min no. of training samples required at each node for a further split | Negatively correlated. Decreasing it value slighly improves precision | Negatively correlated. Decreasing it value slighly improves recall |\n",
    "| min_samples_leaf | Min no. of training samples required at each leaf. Each split needs to verify if this min number is met at each leaf post the split | Weak Positive Correlation. Increasing it;s value increases precision by negligible amount | Weak Positive Correlation. Increasing it;s value increases recall by negligible amount |\n",
    "| min_weight_fraction_leaf | the fraction of the input samples required to be at a leaf node where weights are determined by sample_weight. This helps with class imbalance | Negatively correlated. Increasing the value decreases average precision score | Negatively correlated. Increasing the value decreases average recall score |\n",
    "| max_leaf_nodes | Restricts the growth of the tree by checkig for maximum number of nodes. If after splitting we have more terminal nodes than the specified number of terminal nodes, it will stop the splitting and the tree will not grow further. | Positively correlated. Increasing the number of nodes significantly improves precision | Positively correlated. Increasing the number of nodes significantly improves precision |\n",
    "| min_impurity_decrease | A node will be split if this split induces a decrease of the impurity greater than or equal to this value. The value represents the score of incorrect prediction or classifications at each node. | Highly Negatively correlated. Increasing the value slightly also decreases precision score | Highly Negatively correlated. Increasing the value slightly also decreases precision score|\n"
   ]
  },
  {
   "cell_type": "markdown",
   "id": "7f8de5ba",
   "metadata": {},
   "source": [
    "### 2. How does setting bootstrap=False influence the model performance? Note: the default is bootstrap=True. Explain why your results might be so."
   ]
  },
  {
   "cell_type": "markdown",
   "id": "f0184e16",
   "metadata": {},
   "source": [
    "Setting bootstrap=False increases the precision and recall value. \n",
    "This is so because setting bootstrap False inputs the same training set for all iternations of decision tree. Hence leading to overfitting of data. \n",
    "While when bootstrap is True, input for each tree iteration is a different subset of the trainig data. Hence reducing the variance and avoiding the overfitting of data. "
   ]
  },
  {
   "cell_type": "code",
   "execution_count": null,
   "id": "0c8c3c71",
   "metadata": {},
   "outputs": [],
   "source": []
  }
 ],
 "metadata": {
  "kernelspec": {
   "display_name": "Python 3 (ipykernel)",
   "language": "python",
   "name": "python3"
  },
  "language_info": {
   "codemirror_mode": {
    "name": "ipython",
    "version": 3
   },
   "file_extension": ".py",
   "mimetype": "text/x-python",
   "name": "python",
   "nbconvert_exporter": "python",
   "pygments_lexer": "ipython3",
   "version": "3.8.10"
  }
 },
 "nbformat": 4,
 "nbformat_minor": 5
}
